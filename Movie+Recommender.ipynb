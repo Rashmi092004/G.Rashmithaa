{
  "nbformat": 4,
  "nbformat_minor": 0,
  "metadata": {
    "colab": {
      "provenance": []
    },
    "kernelspec": {
      "name": "python3",
      "display_name": "Python 3"
    }
  },
  "cells": [
    {
      "cell_type": "markdown",
      "metadata": {
        "id": "tp-PiiM07uti"
      },
      "source": [
        "#Import Libraries"
      ]
    },
    {
      "cell_type": "code",
      "metadata": {
        "id": "D6X4_2UaLFaE"
      },
      "source": [
        "import pandas as pd\n",
        "import numpy as np\n",
        "from sklearn.feature_extraction.text import CountVectorizer  #CountVectorizer is used to convert a collection of text documents to a vector of token counts\n",
        "from sklearn.metrics.pairwise import cosine_similarity"
      ],
      "execution_count": 2,
      "outputs": []
    },
    {
      "cell_type": "markdown",
      "metadata": {
        "id": "xTXQxf_cNQDg"
      },
      "source": [
        "## Read CSV files"
      ]
    },
    {
      "cell_type": "code",
      "metadata": {
        "id": "l6Z8Q_scNTKj",
        "colab": {
          "base_uri": "https://localhost:8080/"
        },
        "outputId": "4abee8f3-1f95-4887-c32c-1ae410fe3198"
      },
      "source": [
        "from google.colab import drive\n",
        "drive.mount ('/content/drive')"
      ],
      "execution_count": 3,
      "outputs": [
        {
          "output_type": "stream",
          "name": "stdout",
          "text": [
            "Mounted at /content/drive\n"
          ]
        }
      ]
    },
    {
      "cell_type": "code",
      "metadata": {
        "id": "L-5xspcIMDDG"
      },
      "source": [
        "import os\n",
        "work_dir = \"/content/drive/My Drive/SKILLIT Courses/AI Level 2/Clustering/Movie_recommendation\"\n",
        "os.chdir(work_dir)"
      ],
      "execution_count": 4,
      "outputs": []
    },
    {
      "cell_type": "code",
      "metadata": {
        "id": "ss1St_LBMAsJ",
        "colab": {
          "base_uri": "https://localhost:8080/"
        },
        "outputId": "fd792281-7bff-4e71-8d12-064dd0c0300c"
      },
      "source": [
        "df = pd.read_csv(\"movie_dataset.csv\")\n",
        "print(df.columns)"
      ],
      "execution_count": 5,
      "outputs": [
        {
          "output_type": "stream",
          "name": "stdout",
          "text": [
            "Index(['index', 'budget', 'genres', 'homepage', 'id', 'keywords',\n",
            "       'original_language', 'original_title', 'overview', 'popularity',\n",
            "       'production_companies', 'production_countries', 'release_date',\n",
            "       'revenue', 'runtime', 'spoken_languages', 'status', 'tagline', 'title',\n",
            "       'vote_average', 'vote_count', 'cast', 'crew', 'director'],\n",
            "      dtype='object')\n"
          ]
        }
      ]
    },
    {
      "cell_type": "markdown",
      "metadata": {
        "id": "x7Qz_FXfMl7c"
      },
      "source": [
        "## Helper functions"
      ]
    },
    {
      "cell_type": "code",
      "metadata": {
        "id": "5w1uRDiEMo06"
      },
      "source": [
        "def get_title_from_index(index):\n",
        "  return df[df.index == index][\"title\"].values[0]\n",
        "\n",
        "def get_index_from_title(title):\n",
        "  return df[df.title == title][\"index\"].values[0]"
      ],
      "execution_count": 6,
      "outputs": []
    },
    {
      "cell_type": "markdown",
      "metadata": {
        "id": "XdCrPnjSROeN"
      },
      "source": [
        "## Select Features"
      ]
    },
    {
      "cell_type": "code",
      "metadata": {
        "id": "FD4jEC4HRRmR"
      },
      "source": [
        "features = [\"keywords\", \"cast\", \"genres\", \"director\"]\n",
        "\n",
        "for feature in features:\n",
        "  df[feature] = df[feature].fillna(\"\")"
      ],
      "execution_count": 7,
      "outputs": []
    },
    {
      "cell_type": "markdown",
      "metadata": {
        "id": "0jCuDR_wRgYK"
      },
      "source": [
        "## Create column in df combining all selected features"
      ]
    },
    {
      "cell_type": "code",
      "metadata": {
        "id": "3-rZ6eUORqNk"
      },
      "source": [
        "def combine_features(row):\n",
        "  try:\n",
        "    text = row['keywords'] + ' ' + row['cast'] + ' ' + row['genres'] + ' ' + row['director']\n",
        "    return text\n",
        "  except:\n",
        "    print(\"Error: \", row['index'])"
      ],
      "execution_count": 8,
      "outputs": []
    },
    {
      "cell_type": "code",
      "metadata": {
        "id": "nX5gk0y7Tt4p"
      },
      "source": [
        "df[\"combined_features\"] = df.apply(combine_features, axis = 1) #df.apply helps to apply a function to all he rows"
      ],
      "execution_count": 9,
      "outputs": []
    },
    {
      "cell_type": "code",
      "metadata": {
        "id": "Hst5avTtUSYN",
        "colab": {
          "base_uri": "https://localhost:8080/"
        },
        "outputId": "15f73f9d-6fe3-4ef2-e595-96d85a5dfa4d"
      },
      "source": [
        "df['combined_features']"
      ],
      "execution_count": 10,
      "outputs": [
        {
          "output_type": "execute_result",
          "data": {
            "text/plain": [
              "0       culture clash future space war space colony so...\n",
              "1       ocean drug abuse exotic island east india trad...\n",
              "2       spy based on novel secret agent sequel mi6 Dan...\n",
              "3       dc comics crime fighter terrorist secret ident...\n",
              "4       based on novel mars medallion space travel pri...\n",
              "                              ...                        \n",
              "4798    united states\\u2013mexico barrier legs arms pa...\n",
              "4799     Edward Burns Kerry Bish\\u00e9 Marsha Dietlein...\n",
              "4800    date love at first sight narration investigati...\n",
              "4801     Daniel Henney Eliza Coupe Bill Paxton Alan Ru...\n",
              "4802    obsession camcorder crush dream girl Drew Barr...\n",
              "Name: combined_features, Length: 4803, dtype: object"
            ]
          },
          "metadata": {},
          "execution_count": 10
        }
      ]
    },
    {
      "cell_type": "markdown",
      "metadata": {
        "id": "6_oGgRGOTn0m"
      },
      "source": [
        "## Create count matrix from combined features"
      ]
    },
    {
      "cell_type": "code",
      "metadata": {
        "id": "apnTeTKwTz3v"
      },
      "source": [
        "cv = CountVectorizer()\n",
        "count_matrix = cv.fit_transform(df[\"combined_features\"])"
      ],
      "execution_count": 11,
      "outputs": []
    },
    {
      "cell_type": "markdown",
      "metadata": {
        "id": "3UI4rtMSXe-R"
      },
      "source": [
        "## Compute the similarities between various movies"
      ]
    },
    {
      "cell_type": "code",
      "metadata": {
        "id": "TGYZZjq1Xm4I"
      },
      "source": [
        "cosine_sim = cosine_similarity(count_matrix)"
      ],
      "execution_count": 12,
      "outputs": []
    },
    {
      "cell_type": "markdown",
      "metadata": {
        "id": "-Hjn51YzY2sh"
      },
      "source": [
        "## Define movie finder function"
      ]
    },
    {
      "cell_type": "code",
      "metadata": {
        "id": "moqqAWHZXM7Z",
        "colab": {
          "base_uri": "https://localhost:8080/"
        },
        "outputId": "a7081486-f53d-4b72-b314-03faf29a41e1"
      },
      "source": [
        "def movie_finder():\n",
        "  movie_user_likes = input(\"Which is your favorite movie? \")\n",
        "  movie_index = get_index_from_title(movie_user_likes)\n",
        "  similar_movies = list(enumerate(cosine_sim [movie_index]))\n",
        "  sorted_similar_movies = sorted(similar_movies, key = lambda x:x[1], reverse = True) #lambda creates inline function - refer PPT\n",
        "  i=0\n",
        "  print(\"You also might like these movies: \")\n",
        "  for movie in sorted_similar_movies:\n",
        "    print (get_title_from_index(movie[0]))\n",
        "    i=i+1\n",
        "    if i>5:\n",
        "     break\n",
        "     \n",
        "movie_finder()"
      ],
      "execution_count": 13,
      "outputs": [
        {
          "output_type": "stream",
          "name": "stdout",
          "text": [
            "Which is your favorite movie? Batman\n",
            "You also might like these movies: \n",
            "Batman\n",
            "Batman Returns\n",
            "Batman & Robin\n",
            "The Dark Knight Rises\n",
            "The Dark Knight\n",
            "Batman Begins\n"
          ]
        }
      ]
    }
  ]
}